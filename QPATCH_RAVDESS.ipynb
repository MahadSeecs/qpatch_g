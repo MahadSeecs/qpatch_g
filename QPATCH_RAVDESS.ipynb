{
  "nbformat": 4,
  "nbformat_minor": 0,
  "metadata": {
    "colab": {
      "provenance": [],
      "gpuType": "T4",
      "authorship_tag": "ABX9TyPZ/75V5HA0V72fSgKa6jEL",
      "include_colab_link": true
    },
    "kernelspec": {
      "name": "python3",
      "display_name": "Python 3"
    },
    "language_info": {
      "name": "python"
    },
    "accelerator": "GPU"
  },
  "cells": [
    {
      "cell_type": "markdown",
      "metadata": {
        "id": "view-in-github",
        "colab_type": "text"
      },
      "source": [
        "<a href=\"https://colab.research.google.com/github/MahadSeecs/qpatch_g/blob/main/QPATCH_RAVDESS.ipynb\" target=\"_parent\"><img src=\"https://colab.research.google.com/assets/colab-badge.svg\" alt=\"Open In Colab\"/></a>"
      ]
    },
    {
      "cell_type": "code",
      "execution_count": 11,
      "metadata": {
        "colab": {
          "base_uri": "https://localhost:8080/"
        },
        "id": "L3Jj3rrgK7DU",
        "outputId": "b0c8d99a-5361-4347-ccc2-80475d924847",
        "collapsed": true
      },
      "outputs": [
        {
          "output_type": "stream",
          "name": "stdout",
          "text": [
            "True\n",
            "Args in experiment:\n",
            "\u001b[1mBasic Config\u001b[0m\n",
            "  Task Name:          classification      Is Training:        1                   \n",
            "  Model ID:           RAVDESS_Patch       Model:              QCAAPatchTF         \n",
            "\n",
            "\u001b[1mData Loader\u001b[0m\n",
            "  Data:               RAVDESS             Root Path:          /                   \n",
            "  Data Path:          ETTh1.csv           Features:           M                   \n",
            "  Target:             OT                  Freq:               h                   \n",
            "  Checkpoints:        ./checkpoints/      \n",
            "\n",
            "\u001b[1mModel Parameters\u001b[0m\n",
            "  Top k:              5                   Num Kernels:        6                   \n",
            "  Enc In:             7                   Dec In:             7                   \n",
            "  C Out:              8                   d model:            512                 \n",
            "  n heads:            8                   e layers:           2                   \n",
            "  d layers:           1                   d FF:               2048                \n",
            "  Moving Avg:         25                  Factor:             1                   \n",
            "  Distil:             1                   Dropout:            0.1                 \n",
            "  Embed:              timeF               Activation:         gelu                \n",
            "  Output Attention:   0                   \n",
            "\n",
            "\u001b[1mRun Parameters\u001b[0m\n",
            "  Num Workers:        10                  Itr:                1                   \n",
            "  Train Epochs:       30                  Batch Size:         8                   \n",
            "  Patience:           3                   Learning Rate:      0.0001              \n",
            "  Des:                test                Loss:               MSE                 \n",
            "  Lradj:              type1               Use Amp:            0                   \n",
            "\n",
            "\u001b[1mGPU\u001b[0m\n",
            "  Use GPU:            1                   GPU:                0                   \n",
            "  Use Multi GPU:      0                   Devices:            0,1,2,3             \n",
            "\n",
            "\u001b[1mDe-stationary Projector Params\u001b[0m\n",
            "  P Hidden Dims:      128, 128            P Hidden Layers:    2                   \n",
            "\n",
            "Use GPU: cuda:0\n",
            "Patch length:\n",
            "36\n",
            "18\n",
            ">>>>>>>start training : classification_RAVDESS_Patch_QCAAPatchTF_RAVDESS_ftM_sl216_ll48_pl0_dm512_nh8_el2_dl1_df2048_expand2_dc4_fc1_ebtimeF_dtTrue_test_0>>>>>>>>>>>>>>>>>>>>>>>>>>\n",
            "Epoch: 1 cost time: 12.013938903808594\n",
            "Epoch: 1, Steps: 27 | Train Loss: 2.680 Vali Loss: 3.606 Vali Acc: 0.199 Test Loss: 3.606 Test Acc: 0.199\n",
            "Validation loss decreased (inf --> -0.199074).  Saving model ...\n",
            "Epoch: 2 cost time: 8.832657814025879\n",
            "Epoch: 2, Steps: 27 | Train Loss: 2.713 Vali Loss: 2.084 Vali Acc: 0.370 Test Loss: 2.084 Test Acc: 0.370\n",
            "Validation loss decreased (-0.199074 --> -0.370370).  Saving model ...\n",
            "Epoch: 3 cost time: 8.95026183128357\n",
            "Epoch: 3, Steps: 27 | Train Loss: 2.455 Vali Loss: 1.557 Vali Acc: 0.528 Test Loss: 1.557 Test Acc: 0.528\n",
            "Validation loss decreased (-0.370370 --> -0.527778).  Saving model ...\n",
            "Epoch: 4 cost time: 9.138638973236084\n",
            "Epoch: 4, Steps: 27 | Train Loss: 2.024 Vali Loss: 1.915 Vali Acc: 0.519 Test Loss: 1.915 Test Acc: 0.519\n",
            "EarlyStopping counter: 1 out of 3\n",
            "Epoch: 5 cost time: 9.168969869613647\n",
            "Epoch: 5, Steps: 27 | Train Loss: 2.072 Vali Loss: 2.184 Vali Acc: 0.593 Test Loss: 2.184 Test Acc: 0.593\n",
            "Validation loss decreased (-0.527778 --> -0.592593).  Saving model ...\n",
            "Epoch: 6 cost time: 9.340454578399658\n",
            "Epoch: 6, Steps: 27 | Train Loss: 1.437 Vali Loss: 2.120 Vali Acc: 0.583 Test Loss: 2.120 Test Acc: 0.583\n",
            "EarlyStopping counter: 1 out of 3\n",
            "Epoch: 7 cost time: 9.59856653213501\n",
            "Epoch: 7, Steps: 27 | Train Loss: 1.629 Vali Loss: 1.526 Vali Acc: 0.713 Test Loss: 1.526 Test Acc: 0.713\n",
            "Validation loss decreased (-0.592593 --> -0.712963).  Saving model ...\n",
            "Epoch: 8 cost time: 9.87886118888855\n",
            "Epoch: 8, Steps: 27 | Train Loss: 1.504 Vali Loss: 2.688 Vali Acc: 0.620 Test Loss: 2.688 Test Acc: 0.620\n",
            "EarlyStopping counter: 1 out of 3\n",
            "Epoch: 9 cost time: 9.669783353805542\n",
            "Epoch: 9, Steps: 27 | Train Loss: 1.192 Vali Loss: 0.229 Vali Acc: 0.940 Test Loss: 0.229 Test Acc: 0.940\n",
            "Validation loss decreased (-0.712963 --> -0.939815).  Saving model ...\n",
            "Epoch: 10 cost time: 9.473625898361206\n",
            "Epoch: 10, Steps: 27 | Train Loss: 0.869 Vali Loss: 0.776 Vali Acc: 0.782 Test Loss: 0.776 Test Acc: 0.782\n",
            "EarlyStopping counter: 1 out of 3\n",
            "Epoch: 11 cost time: 9.468538522720337\n",
            "Epoch: 11, Steps: 27 | Train Loss: 0.657 Vali Loss: 0.112 Vali Acc: 0.972 Test Loss: 0.112 Test Acc: 0.972\n",
            "Validation loss decreased (-0.939815 --> -0.972222).  Saving model ...\n",
            "Epoch: 12 cost time: 9.631643295288086\n",
            "Epoch: 12, Steps: 27 | Train Loss: 0.482 Vali Loss: 0.233 Vali Acc: 0.940 Test Loss: 0.233 Test Acc: 0.940\n",
            "EarlyStopping counter: 1 out of 3\n",
            "Epoch: 13 cost time: 9.665289640426636\n",
            "Epoch: 13, Steps: 27 | Train Loss: 0.433 Vali Loss: 0.446 Vali Acc: 0.917 Test Loss: 0.446 Test Acc: 0.917\n",
            "EarlyStopping counter: 2 out of 3\n",
            "Epoch: 14 cost time: 9.615730285644531\n",
            "Epoch: 14, Steps: 27 | Train Loss: 0.321 Vali Loss: 0.124 Vali Acc: 0.963 Test Loss: 0.124 Test Acc: 0.963\n",
            "EarlyStopping counter: 3 out of 3\n",
            "Early stopping\n",
            ">>>>>>>testing : classification_RAVDESS_Patch_QCAAPatchTF_RAVDESS_ftM_sl216_ll48_pl0_dm512_nh8_el2_dl1_df2048_expand2_dc4_fc1_ebtimeF_dtTrue_test_0<<<<<<<<<<<<<<<<<<<<<<<<<<<<<<<<<\n",
            "test shape: torch.Size([216, 8]) torch.Size([216])\n",
            "accuracy:0.9722222222222222\n"
          ]
        }
      ],
      "source": [
        "!python -u run.py \\\n",
        "  --task_name classification \\\n",
        "  --is_training 1 \\\n",
        "  --model_id RAVDESS_Patch \\\n",
        "  --root_path /\\\n",
        "  --data RAVDESS \\\n",
        "  --model QCAAPatchTF \\\n",
        "  --batch_size 8 \\\n",
        "  --learning_rate 1e-4 \\\n",
        "  --train_epochs 30 \\\n",
        "  --c_out 8\n"
      ]
    },
    {
      "cell_type": "code",
      "source": [
        "import torch\n",
        "\n",
        "checkpoint = torch.load('/content/QCAAPatchTF/checkpoints/classification_RAVDESS_Patch_QCAAPatchTF_RAVDESS_ftM_sl216_ll48_pl0_dm512_nh8_el2_dl1_df2048_expand2_dc4_fc1_ebtimeF_dtTrue_test_0/checkpoint.pth')\n",
        "\n",
        "# Check what's in the checkpoint\n",
        "# print(checkpoint.keys())\n",
        "\n",
        "# If there's a config or args saved\n",
        "if 'config' in checkpoint:\n",
        "    print('lmao:', checkpoint['config'])\n",
        "if 'args' in checkpoint:\n",
        "    print('hi:', checkpoint['args'])"
      ],
      "metadata": {
        "id": "teROvBr08Vu_"
      },
      "execution_count": 33,
      "outputs": []
    },
    {
      "cell_type": "code",
      "source": [
        "# Install if needed\n",
        "\n",
        "# Now run inference\n",
        "!python ravdess_inference.py --audio 03-01-05-02-02-02-02.wav"
      ],
      "metadata": {
        "colab": {
          "base_uri": "https://localhost:8080/"
        },
        "id": "h5FddRxf-UM3",
        "outputId": "2c165d6d-8377-4cef-bcf8-fd811035bd4f"
      },
      "execution_count": 41,
      "outputs": [
        {
          "output_type": "stream",
          "name": "stdout",
          "text": [
            "Processing audio: 03-01-05-02-02-02-02.wav\n",
            "Extracted features shape: (216, 128)\n",
            "Feature shape: (216, 128)\n",
            "Loading model...\n",
            "Patch length:\n",
            "36\n",
            "18\n",
            "\n",
            "==================================================\n",
            "Predicted Emotion: HAPPY\n",
            "Confidence: 99.01%\n",
            "==================================================\n",
            "\n",
            "All emotion probabilities:\n",
            "  neutral   : 0.00%\n",
            "  calm      : 0.00%\n",
            "  happy     : 99.01%\n",
            "  sad       : 0.00%\n",
            "  angry     : 0.00%\n",
            "  fearful   : 0.00%\n",
            "  disgust   : 0.99%\n",
            "  surprised : 0.00%\n"
          ]
        }
      ]
    },
    {
      "cell_type": "code",
      "source": [
        "!python -u run.py \\\n",
        "  --task_name classification \\\n",
        "  --is_training 0 \\\n",
        "  --root_path ./ \\\n",
        "  --model_id RAVDESS_Patch \\\n",
        "  --model QCAAPatchTF \\\n",
        "  --data RAVDESS \\\n",
        "  --features M \\\n",
        "  --seq_len 216 \\\n",
        "  --label_len 48 \\\n",
        "  --pred_len 0 \\\n",
        "  --e_layers 2 \\\n",
        "  --d_layers 1 \\\n",
        "  --factor 1 \\\n",
        "  --enc_in 128 \\\n",
        "  --dec_in 512 \\\n",
        "  --c_out 8 \\\n",
        "  --d_model 512 \\\n",
        "  --d_ff 2048 \\\n",
        "  --expand 2 \\\n",
        "  --d_conv 4 \\\n",
        "  --n_heads 8 \\\n",
        "  --des 'test' \\\n",
        "  --itr 1 \\\n",
        "  --checkpoints ./checkpoints/classification_RAVDESS_Patch_QCAAPatchTF_RAVDESS_ftM_sl216_ll48_pl0_dm512_nh8_el2_dl1_df2048_expand2_dc4_fc1_ebtimeF_dtTrue_test_0/"
      ],
      "metadata": {
        "colab": {
          "base_uri": "https://localhost:8080/"
        },
        "id": "Ctd4Fe4Cy8MJ",
        "outputId": "8255cf1d-1e94-4bd6-8d4a-4b8da149d4aa"
      },
      "execution_count": 34,
      "outputs": [
        {
          "output_type": "stream",
          "name": "stdout",
          "text": [
            "True\n",
            "Args in experiment:\n",
            "\u001b[1mBasic Config\u001b[0m\n",
            "  Task Name:          classification      Is Training:        0                   \n",
            "  Model ID:           RAVDESS_Patch       Model:              QCAAPatchTF         \n",
            "\n",
            "\u001b[1mData Loader\u001b[0m\n",
            "  Data:               RAVDESS             Root Path:          ./                  \n",
            "  Data Path:          ETTh1.csv           Features:           M                   \n",
            "  Target:             OT                  Freq:               h                   \n",
            "  Checkpoints:        ./checkpoints/classification_RAVDESS_Patch_QCAAPatchTF_RAVDESS_ftM_sl216_ll48_pl0_dm512_nh8_el2_dl1_df2048_expand2_dc4_fc1_ebtimeF_dtTrue_test_0/\n",
            "\n",
            "\u001b[1mModel Parameters\u001b[0m\n",
            "  Top k:              5                   Num Kernels:        6                   \n",
            "  Enc In:             128                 Dec In:             512                 \n",
            "  C Out:              8                   d model:            512                 \n",
            "  n heads:            8                   e layers:           2                   \n",
            "  d layers:           1                   d FF:               2048                \n",
            "  Moving Avg:         25                  Factor:             1                   \n",
            "  Distil:             1                   Dropout:            0.1                 \n",
            "  Embed:              timeF               Activation:         gelu                \n",
            "  Output Attention:   0                   \n",
            "\n",
            "\u001b[1mRun Parameters\u001b[0m\n",
            "  Num Workers:        10                  Itr:                1                   \n",
            "  Train Epochs:       10                  Batch Size:         32                  \n",
            "  Patience:           3                   Learning Rate:      0.0001              \n",
            "  Des:                test                Loss:               MSE                 \n",
            "  Lradj:              type1               Use Amp:            0                   \n",
            "\n",
            "\u001b[1mGPU\u001b[0m\n",
            "  Use GPU:            1                   GPU:                0                   \n",
            "  Use Multi GPU:      0                   Devices:            0,1,2,3             \n",
            "\n",
            "\u001b[1mDe-stationary Projector Params\u001b[0m\n",
            "  P Hidden Dims:      128, 128            P Hidden Layers:    2                   \n",
            "\n",
            "Use GPU: cuda:0\n",
            "Patch length:\n",
            "36\n",
            "18\n",
            ">>>>>>>testing : classification_RAVDESS_Patch_QCAAPatchTF_RAVDESS_ftM_sl216_ll48_pl0_dm512_nh8_el2_dl1_df2048_expand2_dc4_fc1_ebtimeF_dtTrue_test_0<<<<<<<<<<<<<<<<<<<<<<<<<<<<<<<<<\n",
            "loading model\n",
            "test shape: torch.Size([216, 8]) torch.Size([216])\n",
            "accuracy:0.9722222222222222\n"
          ]
        }
      ]
    },
    {
      "cell_type": "code",
      "source": [
        "!find  -name \"*.json\"\n",
        "!find -name \"*.yaml\"\n",
        "!find  -name \"*.toml\"\n"
      ],
      "metadata": {
        "collapsed": true,
        "id": "dOPbM91kw7qY"
      },
      "execution_count": 28,
      "outputs": []
    }
  ]
}